{
  "nbformat": 4,
  "nbformat_minor": 2,
  "metadata": {
    "colab": {
      "name": "4A Group 11 Project.ipynb",
      "provenance": [],
      "collapsed_sections": [
        "E41m8YffEa8d",
        "0V2vSggNY4dS",
        "f9pEjuNrLk-g",
        "nz_X7SsCFU-G",
        "e-_5OPRqF3uT",
        "ktlIsGnkGjAN",
        "5Zai2JmlVJXy"
      ]
    },
    "kernelspec": {
      "display_name": "Python 3",
      "name": "python3"
    },
    "language_info": {
      "name": "python"
    },
    "accelerator": "GPU"
  },
  "cells": [
    {
      "cell_type": "markdown",
      "source": [
        "#**Fake News Classifier (NLP)**\n",
        "\n",
        "110740 Mwandware Dalton Zai \n",
        "\n",
        "110855 Wesley Joel Odhiambo\n",
        "\n",
        "Dataset:\n",
        "https://www.kaggle.com/c/fake-news"
      ],
      "metadata": {
        "id": "6CVwot-HKc8T"
      }
    },
    {
      "cell_type": "code",
      "execution_count": null,
      "source": [
        "import tensorflow as tf\r\n",
        "from tensorflow import keras\r\n",
        "from tensorflow.keras.preprocessing.text import Tokenizer\r\n",
        "from tensorflow.keras.preprocessing.sequence import pad_sequences\r\n",
        "\r\n",
        "import nltk\r\n",
        "from nltk.stem.porter import PorterStemmer\r\n",
        "from nltk.corpus import stopwords\r\n",
        "nltk.download('stopwords')\r\n",
        "# import spacy\r\n",
        "\r\n",
        "import re as re\r\n",
        "import pandas as pd\r\n",
        "import numpy as np\r\n",
        "\r\n",
        "import matplotlib.pyplot as plt\r\n",
        "import seaborn as sns\r\n"
      ],
      "outputs": [],
      "metadata": {
        "id": "N76OfBfYTJhT"
      }
    },
    {
      "cell_type": "code",
      "execution_count": null,
      "source": [
        "from google.colab import drive\r\n",
        "drive.mount('/content/drive')"
      ],
      "outputs": [],
      "metadata": {
        "id": "EkudnRFDEoDZ"
      }
    },
    {
      "cell_type": "markdown",
      "source": [
        "#**Fetch Dataset**"
      ],
      "metadata": {
        "id": "E41m8YffEa8d"
      }
    },
    {
      "cell_type": "code",
      "execution_count": null,
      "source": [
        "train_data=pd.read_csv('/content/drive/MyDrive/Datasets/fake_news.csv')\r\n",
        "train_data = pd.DataFrame(train_data)"
      ],
      "outputs": [],
      "metadata": {
        "id": "XmMqaMGIsWr6"
      }
    },
    {
      "cell_type": "code",
      "execution_count": null,
      "source": [
        "train_data.shape"
      ],
      "outputs": [],
      "metadata": {
        "id": "lZ2Y969tJrYR"
      }
    },
    {
      "cell_type": "code",
      "execution_count": null,
      "source": [
        "train_data.drop('id',inplace=True,axis=1)"
      ],
      "outputs": [],
      "metadata": {
        "id": "dqf_dZTSXuZm"
      }
    },
    {
      "cell_type": "code",
      "execution_count": null,
      "source": [
        "train_data"
      ],
      "outputs": [],
      "metadata": {
        "id": "8mBu6ZAbYCKc"
      }
    },
    {
      "cell_type": "code",
      "execution_count": null,
      "source": [
        "len(list(train_data.columns))"
      ],
      "outputs": [],
      "metadata": {
        "id": "E_4s_JflW9WV"
      }
    },
    {
      "cell_type": "markdown",
      "source": [
        "#**Check for Null values in Dataset**"
      ],
      "metadata": {
        "id": "0V2vSggNY4dS"
      }
    },
    {
      "cell_type": "code",
      "execution_count": null,
      "source": [
        "train_data.isnull().sum()\r\n"
      ],
      "outputs": [],
      "metadata": {
        "id": "S_acWtg6QVrc"
      }
    },
    {
      "cell_type": "code",
      "execution_count": null,
      "source": [
        "features_missing_values=list(train_data.columns[train_data.isna().any()])\r\n",
        "len(features_missing_values)"
      ],
      "outputs": [],
      "metadata": {
        "id": "-lFQfGCZadw_"
      }
    },
    {
      "cell_type": "markdown",
      "source": [
        "#**Drop missing Values**"
      ],
      "metadata": {
        "id": "f9pEjuNrLk-g"
      }
    },
    {
      "cell_type": "code",
      "execution_count": null,
      "source": [
        "new_train_data=train_data.dropna(axis=0,inplace=False)"
      ],
      "outputs": [],
      "metadata": {
        "id": "aB9g8Py2Lkus"
      }
    },
    {
      "cell_type": "code",
      "execution_count": null,
      "source": [
        "new_train_data.shape"
      ],
      "outputs": [],
      "metadata": {
        "id": "LXkfDw-MOOoG"
      }
    },
    {
      "cell_type": "code",
      "execution_count": null,
      "source": [
        "new_train_data.isnull().sum()"
      ],
      "outputs": [],
      "metadata": {
        "id": "cIkRXqBJMcTb"
      }
    },
    {
      "cell_type": "code",
      "execution_count": null,
      "source": [
        "train_final=new_train_data.to_numpy()"
      ],
      "outputs": [],
      "metadata": {
        "id": "D7ahN1HfTBAT"
      }
    },
    {
      "cell_type": "code",
      "execution_count": null,
      "source": [
        "new_train_data"
      ],
      "outputs": [],
      "metadata": {
        "id": "WhATiNPCUd5g"
      }
    },
    {
      "cell_type": "code",
      "execution_count": null,
      "source": [
        "new_train_data.reset_index(inplace=True)\r\n",
        "new_train_data.head(10)"
      ],
      "outputs": [],
      "metadata": {
        "id": "EFi84BuQ6r57"
      }
    },
    {
      "cell_type": "code",
      "execution_count": null,
      "source": [
        "stemmer = PorterStemmer()\r\n",
        "corpus = []"
      ],
      "outputs": [],
      "metadata": {
        "id": "BSEeEYJo3wPo"
      }
    },
    {
      "cell_type": "code",
      "execution_count": null,
      "source": [
        "len(new_train_data[\"text\"].values), type(new_train_data['text'].values)"
      ],
      "outputs": [],
      "metadata": {
        "id": "HTTnEaLSVFZO"
      }
    },
    {
      "cell_type": "markdown",
      "source": [
        "#**Tokenizing**"
      ],
      "metadata": {
        "id": "nz_X7SsCFU-G"
      }
    },
    {
      "cell_type": "code",
      "execution_count": null,
      "source": [
        "UNIQUE_WORDS = 1500\r\n",
        "corpus  = list(new_train_data[\"text\"].values)\r\n",
        "tokenizer = Tokenizer(num_words=1500, oov_token=\"<OOV>\")\r\n",
        "tokenizer.fit_on_texts(corpus)\r\n",
        "word_indices = tokenizer.word_index\r\n",
        "word_count = tokenizer.document_count\r\n"
      ],
      "outputs": [],
      "metadata": {
        "id": "lGNf9E3aUsHx"
      }
    },
    {
      "cell_type": "code",
      "execution_count": null,
      "source": [
        "encoded_corpus = tokenizer.texts_to_sequences(corpus)"
      ],
      "outputs": [],
      "metadata": {
        "id": "dQE_jXCpZEHP"
      }
    },
    {
      "cell_type": "code",
      "execution_count": null,
      "source": [
        "encoded_corpus = pad_sequences(encoded_corpus, maxlen=50, padding='post')\r\n",
        "ds_y = new_train_data[\"label\"].values"
      ],
      "outputs": [],
      "metadata": {
        "id": "RsT--vpBcPIy"
      }
    },
    {
      "cell_type": "code",
      "execution_count": null,
      "source": [
        "# Coversion to Tensor\r\n",
        "ds_corpus = tf.data.Dataset.from_tensor_slices((encoded_corpus, ds_y))"
      ],
      "outputs": [],
      "metadata": {
        "id": "J3bx_jt-an-V"
      }
    },
    {
      "cell_type": "code",
      "execution_count": null,
      "source": [
        "for encoded_seq, label in ds_corpus.take(5):\r\n",
        "  print(f'Sequence shape: {encoded_seq.shape}, Label is: {label}')"
      ],
      "outputs": [],
      "metadata": {
        "id": "LbPVPvXyboT8"
      }
    },
    {
      "cell_type": "markdown",
      "source": [
        "#**Split Dataset**"
      ],
      "metadata": {
        "id": "e-_5OPRqF3uT"
      }
    },
    {
      "cell_type": "code",
      "execution_count": null,
      "source": [
        "BATCH_SIZE = 64\r\n",
        "\r\n",
        "dataset_size = ds_corpus.cardinality().numpy()\r\n",
        "\r\n",
        "train_size = dataset_size * 0.7\r\n",
        "val_size = dataset_size * 0.2\r\n",
        "test_size = dataset_size * 0.1\r\n",
        "\r\n",
        "ds_train = ds_corpus.take(train_size).batch(BATCH_SIZE).prefetch(tf.data.AUTOTUNE)\r\n",
        "ds_val = ds_corpus.skip(train_size).take(val_size).batch(BATCH_SIZE).prefetch(tf.data.AUTOTUNE)\r\n",
        "ds_test = ds_corpus.skip(train_size + val_size).take(test_size)"
      ],
      "outputs": [],
      "metadata": {
        "id": "TovIXG9H77bR"
      }
    },
    {
      "cell_type": "markdown",
      "source": [
        "#**Build Model**"
      ],
      "metadata": {
        "id": "ktlIsGnkGjAN"
      }
    },
    {
      "cell_type": "code",
      "execution_count": null,
      "source": [
        "from keras.models import *\r\n",
        "from keras.layers import *\r\n",
        "from keras.callbacks import *\r\n",
        "from tensorflow.keras.optimizers import Adam"
      ],
      "outputs": [],
      "metadata": {
        "id": "spSOoquTMe-c"
      }
    },
    {
      "cell_type": "code",
      "execution_count": null,
      "source": [
        "model = keras.models.Sequential([\r\n",
        "      keras.layers.Embedding(UNIQUE_WORDS, 512, input_length=50),\r\n",
        "      keras.layers.GRU(100, return_sequences=True, dropout=0.2, recurrent_dropout=0.3),\r\n",
        "      keras.layers.GRU(100, return_sequences=False, dropout=0.2, recurrent_dropout=0.3),\r\n",
        "      keras.layers.Dense(1,  activation=\"sigmoid\")\r\n",
        "      ])"
      ],
      "outputs": [],
      "metadata": {
        "id": "h48Ye6sNM3vh"
      }
    },
    {
      "cell_type": "markdown",
      "source": [
        "**Compile and Save Model**"
      ],
      "metadata": {
        "id": "hTYHRNUcGxhf"
      }
    },
    {
      "cell_type": "code",
      "execution_count": null,
      "source": [
        "model.compile(optimizer=Adam(learning_rate=0.01), loss='binary_crossentropy', metrics=['accuracy'])\r\n",
        "es=EarlyStopping(monitor='loss', verbose=1, patience=3)\r\n",
        "mc=ModelCheckpoint('best_model',save_best_only=True,verbose=1)"
      ],
      "outputs": [],
      "metadata": {
        "id": "ViziwLuE64Ya"
      }
    },
    {
      "cell_type": "code",
      "execution_count": null,
      "source": [
        "model.summary()"
      ],
      "outputs": [],
      "metadata": {
        "id": "Fv16F8LyCYbZ"
      }
    },
    {
      "cell_type": "markdown",
      "source": [
        "#**Train Model**"
      ],
      "metadata": {
        "id": "kLKgRGyyHCRv"
      }
    },
    {
      "cell_type": "code",
      "execution_count": null,
      "source": [
        "history = model.fit(ds_train, validation_data=ds_val, epochs=100, callbacks=[es,mc])"
      ],
      "outputs": [],
      "metadata": {
        "id": "bRHrUBqWDH_K"
      }
    },
    {
      "cell_type": "markdown",
      "source": [
        "# **Model performance Graph**"
      ],
      "metadata": {
        "id": "5Zai2JmlVJXy"
      }
    },
    {
      "cell_type": "code",
      "execution_count": null,
      "source": [
        "plt.style.use(\"ggplot\")\r\n",
        "plt.figure()\r\n",
        "plt.plot(history.history[\"loss\"], label=\"train_loss\")\r\n",
        "plt.plot(history.history[\"val_loss\"], label=\"val_loss\")\r\n",
        "plt.plot(history.history[\"accuracy\"], label=\"train_acc\")\r\n",
        "plt.plot(history.history[\"val_accuracy\"], label=\"val_acc\")\r\n",
        "plt.title(\"Training Loss and Accuracy\")\r\n",
        "plt.xlabel(\"Epoch #\")\r\n",
        "plt.ylabel(\"Loss/Accuracy\")\r\n",
        "plt.legend()"
      ],
      "outputs": [],
      "metadata": {
        "id": "QssbNVPfLhZi"
      }
    },
    {
      "cell_type": "code",
      "execution_count": null,
      "source": [
        "best_model = keras.models.load_model('best_model')"
      ],
      "outputs": [],
      "metadata": {
        "id": "phmtQD3YwVX0"
      }
    },
    {
      "cell_type": "code",
      "execution_count": null,
      "source": [
        "len(model.predict(ds_test.take(1)))"
      ],
      "outputs": [],
      "metadata": {
        "id": "NDLKQY5NwoXa"
      }
    },
    {
      "cell_type": "markdown",
      "source": [
        "#**Hyperparameter Tuning**"
      ],
      "metadata": {
        "id": "yehuO6qyU5ZJ"
      }
    },
    {
      "cell_type": "code",
      "execution_count": null,
      "source": [
        "pip install -q -U keras-tuner"
      ],
      "outputs": [],
      "metadata": {
        "id": "iRzja8qFYq0Z"
      }
    },
    {
      "cell_type": "code",
      "execution_count": null,
      "source": [
        "import keras_tuner as kt"
      ],
      "outputs": [],
      "metadata": {
        "id": "TZAssIpvYck1"
      }
    },
    {
      "cell_type": "markdown",
      "source": [
        "**Model Definition**"
      ],
      "metadata": {
        "id": "Kow4yu0VHf5T"
      }
    },
    {
      "cell_type": "code",
      "execution_count": null,
      "source": [
        "def model_builder(hp):\r\n",
        "  hp_units = hp.Int('units', min_value=32, max_value=512, step=32)\r\n",
        "\r\n",
        "  model = keras.models.Sequential([\r\n",
        "      keras.layers.Embedding(UNIQUE_WORDS, 512, input_length=50),\r\n",
        "      keras.layers.GRU(units=hp_units, return_sequences=True, dropout=0.2, recurrent_dropout=0.3),\r\n",
        "      keras.layers.GRU(units=hp_units, return_sequences=False, dropout=0.2, recurrent_dropout=0.3),\r\n",
        "      keras.layers.Dense(1,  activation=\"sigmoid\")\r\n",
        "      ])\r\n",
        "\r\n",
        "  # Tune the learning rate for the optimizer\r\n",
        "  # Choose an optimal value from 0.01, 0.001, or 0.0001\r\n",
        "  hp_learning_rate = hp.Choice('learning_rate', values=[1e-2, 1e-3, 1e-4])\r\n",
        "\r\n",
        "  model.compile(optimizer=Adam(learning_rate=hp_learning_rate), loss='binary_crossentropy', metrics=['accuracy'])\r\n",
        "\r\n",
        "  return model"
      ],
      "outputs": [],
      "metadata": {
        "id": "JBPNxWqqU26N"
      }
    },
    {
      "cell_type": "markdown",
      "source": [
        "**Tuner Definition**"
      ],
      "metadata": {
        "id": "wjMqwZZiHnd3"
      }
    },
    {
      "cell_type": "code",
      "execution_count": null,
      "source": [
        "tuner = kt.Hyperband(model_builder,\r\n",
        "                     objective='val_accuracy',\r\n",
        "                     max_epochs=10,\r\n",
        "                     factor=3)"
      ],
      "outputs": [],
      "metadata": {
        "id": "DN2HsCy0YE4h"
      }
    },
    {
      "cell_type": "code",
      "execution_count": null,
      "source": [
        "stop_early = tf.keras.callbacks.EarlyStopping(monitor='val_loss', patience=3)"
      ],
      "outputs": [],
      "metadata": {
        "id": "5qDDbnfdY415"
      }
    },
    {
      "cell_type": "markdown",
      "source": [
        "**Tuning**"
      ],
      "metadata": {
        "id": "buChYrn3Htgm"
      }
    },
    {
      "cell_type": "code",
      "execution_count": null,
      "source": [
        "tuner.search(encoded_corpus, ds_y, epochs=50, validation_split=0.2, callbacks=[stop_early])\n",
        "\n",
        "# Get the optimal hyperparameters\n",
        "best_hps=tuner.get_best_hyperparameters(num_trials=1)[0]\n",
        "\n",
        "print(f\"\"\"\n",
        "The hyperparameter search is complete. The optimal number of units in the first densely-connected\n",
        "layer is {best_hps.get('units')} and the optimal learning rate for the optimizer\n",
        "is {best_hps.get('learning_rate')}.\n",
        "\"\"\")"
      ],
      "outputs": [],
      "metadata": {
        "id": "1hKrYKVMZA4k"
      }
    },
    {
      "cell_type": "code",
      "execution_count": null,
      "source": [
        "model = tuner.hypermodel.build(best_hps)\r\n",
        "history = model.fit(encoded_corpus, ds_y, epochs=50, validation_split=0.2, callbacks=[stop_early])\r\n",
        "\r\n",
        "val_acc_per_epoch = history.history['val_accuracy']\r\n",
        "best_epoch = val_acc_per_epoch.index(max(val_acc_per_epoch)) + 1\r\n",
        "print('Best epoch: %d' % (best_epoch,))"
      ],
      "outputs": [],
      "metadata": {
        "id": "JqahPVEAbojQ"
      }
    },
    {
      "cell_type": "code",
      "execution_count": null,
      "source": [
        "hypermodel = tuner.hypermodel.build(best_hps)\r\n",
        "\r\n",
        "# Retrain the model\r\n",
        "hypermodel.fit(encoded_corpus, ds_y, epochs=best_epoch, validation_split=0.2)"
      ],
      "outputs": [],
      "metadata": {
        "id": "g9uysEmxbpoA"
      }
    },
    {
      "cell_type": "code",
      "execution_count": null,
      "source": [
        "eval_result = hypermodel.evaluate(encoded_corpus, ds_y)\r\n",
        "print(\"[test loss, test accuracy]:\", eval_result)"
      ],
      "outputs": [],
      "metadata": {
        "id": "vDsh_YLvcZtY"
      }
    },
    {
      "cell_type": "code",
      "execution_count": null,
      "source": [],
      "outputs": [],
      "metadata": {
        "id": "rDEXxGeUNN0C"
      }
    },
    {
      "cell_type": "markdown",
      "source": [
        "#**Tuned Model**\n"
      ],
      "metadata": {
        "id": "9JG_AtXkNOk3"
      }
    },
    {
      "cell_type": "code",
      "execution_count": null,
      "source": [
        "model = keras.models.Sequential([\r\n",
        "      keras.layers.Embedding(UNIQUE_WORDS, 512, input_length=50),\r\n",
        "      keras.layers.GRU(384, return_sequences=True, dropout=0.2, recurrent_dropout=0.3),\r\n",
        "      keras.layers.GRU(384, return_sequences=False, dropout=0.2, recurrent_dropout=0.3),\r\n",
        "      keras.layers.Dense(1,  activation=\"sigmoid\")\r\n",
        "      ])"
      ],
      "outputs": [],
      "metadata": {
        "id": "sgnfF9KkNSgN"
      }
    },
    {
      "cell_type": "code",
      "execution_count": null,
      "source": [
        "model.compile(optimizer=Adam(learning_rate=0.01), loss='binary_crossentropy', metrics=['accuracy'])\r\n",
        "es=EarlyStopping(monitor='loss', verbose=1, patience=3)\r\n",
        "mc=ModelCheckpoint('best_model',save_best_only=True,verbose=1)"
      ],
      "outputs": [],
      "metadata": {
        "id": "-5rFeEgjNSgO"
      }
    },
    {
      "cell_type": "code",
      "execution_count": null,
      "source": [
        "model.summary()"
      ],
      "outputs": [],
      "metadata": {
        "id": "AsytqV_9NSgO"
      }
    },
    {
      "cell_type": "code",
      "execution_count": null,
      "source": [
        "history = model.fit(ds_train, validation_data=ds_val, epochs=100, callbacks=[es,mc])"
      ],
      "outputs": [],
      "metadata": {
        "id": "MdprkhSUNSgO"
      }
    },
    {
      "cell_type": "markdown",
      "source": [
        "#**Model performance Graph**"
      ],
      "metadata": {
        "id": "70GDN-BGNbwf"
      }
    },
    {
      "cell_type": "code",
      "execution_count": null,
      "source": [
        "plt.style.use(\"ggplot\")\n",
        "plt.figure()\n",
        "plt.plot(history.history[\"loss\"], label=\"train_loss\")\n",
        "plt.plot(history.history[\"val_loss\"], label=\"val_loss\")\n",
        "plt.plot(history.history[\"accuracy\"], label=\"train_acc\")\n",
        "plt.plot(history.history[\"val_accuracy\"], label=\"val_acc\")\n",
        "plt.title(\"Training Loss and Accuracy\")\n",
        "plt.xlabel(\"Epoch #\")\n",
        "plt.ylabel(\"Loss/Accuracy\")\n",
        "plt.legend()"
      ],
      "outputs": [],
      "metadata": {
        "id": "WXU4mUJmNZBy"
      }
    }
  ]
}